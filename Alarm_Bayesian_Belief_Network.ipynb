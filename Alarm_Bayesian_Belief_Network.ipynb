{
  "nbformat": 4,
  "nbformat_minor": 0,
  "metadata": {
    "kernelspec": {
      "display_name": "Python 3",
      "language": "python",
      "name": "python3"
    },
    "language_info": {
      "codemirror_mode": {
        "name": "ipython",
        "version": 3
      },
      "file_extension": ".py",
      "mimetype": "text/x-python",
      "name": "python",
      "nbconvert_exporter": "python",
      "pygments_lexer": "ipython3",
      "version": "3.7.4"
    },
    "colab": {
      "name": "Alarm_BBN.ipynb",
      "provenance": [],
      "collapsed_sections": [],
      "include_colab_link": true
    }
  },
  "cells": [
    {
      "cell_type": "markdown",
      "metadata": {
        "id": "view-in-github",
        "colab_type": "text"
      },
      "source": [
        "<a href=\"https://colab.research.google.com/github/RavindraKushwaha23/Machine-Learning/blob/main/Alarm_Bayesian_Belief_Network.ipynb\" target=\"_parent\"><img src=\"https://colab.research.google.com/assets/colab-badge.svg\" alt=\"Open In Colab\"/></a>"
      ]
    },
    {
      "cell_type": "code",
      "metadata": {
        "id": "ttlz5z8MuM23",
        "colab": {
          "base_uri": "https://localhost:8080/"
        },
        "outputId": "00a457bb-a35b-43bc-f291-42fb1f884561"
      },
      "source": [
        "#Importing Library\n",
        "from pgmpy.models import BayesianModel\n",
        "from pgmpy.inference import VariableElimination"
      ],
      "execution_count": null,
      "outputs": [
        {
          "output_type": "stream",
          "name": "stderr",
          "text": [
            "/usr/local/lib/python3.7/dist-packages/statsmodels/tools/_testing.py:19: FutureWarning: pandas.util.testing is deprecated. Use the functions in the public API at pandas.testing instead.\n",
            "  import pandas.util.testing as tm\n"
          ]
        }
      ]
    },
    {
      "cell_type": "code",
      "metadata": {
        "id": "uAUDfntZ4wAp"
      },
      "source": [
        "pip install pgmpy"
      ],
      "execution_count": null,
      "outputs": []
    },
    {
      "cell_type": "code",
      "metadata": {
        "id": "QvtKaXuy4dAf"
      },
      "source": [
        ""
      ],
      "execution_count": null,
      "outputs": []
    },
    {
      "cell_type": "code",
      "metadata": {
        "id": "FnYUNeiouM25",
        "colab": {
          "base_uri": "https://localhost:8080/"
        },
        "outputId": "0b32c176-7a5d-48b8-91f9-ffcb0a5b255f"
      },
      "source": [
        "#Defining network structure\n",
        "\n",
        "alarm_model = BayesianModel([('Burglary', 'Alarm'), \n",
        "                              ('Earthquake', 'Alarm'),\n",
        "                              ('Alarm', 'JohnCalls'),\n",
        "                              ('Alarm', 'MaryCalls')])\n",
        "\n",
        "#Defining the parameters using CPT\n",
        "from pgmpy.factors.discrete import TabularCPD\n",
        "\n",
        "cpd_burglary = TabularCPD(variable='Burglary', variable_card=2,\n",
        "                      values=[[.999], [0.001]])\n",
        "cpd_earthquake = TabularCPD(variable='Earthquake', variable_card=2,\n",
        "                       values=[[0.998], [0.002]])\n",
        "cpd_alarm = TabularCPD(variable='Alarm', variable_card=2,\n",
        "                        values=[[0.999, 0.71, 0.06, 0.05],\n",
        "                                [0.001, 0.29, 0.94, 0.95]],\n",
        "                        evidence=['Burglary', 'Earthquake'],\n",
        "                        evidence_card=[2, 2])\n",
        "cpd_johncalls = TabularCPD(variable='JohnCalls', variable_card=2,\n",
        "                      values=[[0.95, 0.1], [0.05, 0.9]],\n",
        "                      evidence=['Alarm'], evidence_card=[2])\n",
        "cpd_marycalls = TabularCPD(variable='MaryCalls', variable_card=2,\n",
        "                      values=[[0.1, 0.7], [0.9, 0.3]],\n",
        "                      evidence=['Alarm'], evidence_card=[2])\n",
        "\n",
        "# Associating the parameters with the model structure\n",
        "alarm_model.add_cpds(cpd_burglary, cpd_earthquake, cpd_alarm, cpd_johncalls, cpd_marycalls)"
      ],
      "execution_count": null,
      "outputs": [
        {
          "output_type": "stream",
          "name": "stderr",
          "text": [
            "/usr/local/lib/python3.7/dist-packages/pgmpy/models/BayesianModel.py:10: FutureWarning: BayesianModel has been renamed to BayesianNetwork. Please use BayesianNewtork class, BayesianModel will be removed in future.\n",
            "  FutureWarning,\n"
          ]
        }
      ]
    },
    {
      "cell_type": "code",
      "metadata": {
        "id": "aCh19SBpuM26",
        "colab": {
          "base_uri": "https://localhost:8080/"
        },
        "outputId": "d606eeb9-2bee-4d2a-f264-8e42ce1c3829"
      },
      "source": [
        "# Checking if the cpds are valid for the model\n",
        "alarm_model.check_model()"
      ],
      "execution_count": null,
      "outputs": [
        {
          "output_type": "execute_result",
          "data": {
            "text/plain": [
              "True"
            ]
          },
          "metadata": {},
          "execution_count": 9
        }
      ]
    },
    {
      "cell_type": "code",
      "metadata": {
        "id": "OBeci7VOuM27",
        "colab": {
          "base_uri": "https://localhost:8080/"
        },
        "outputId": "fa1606f3-7a47-446c-d069-b272b69ce400"
      },
      "source": [
        "# Viewing nodes of the model\n",
        "alarm_model.nodes()"
      ],
      "execution_count": null,
      "outputs": [
        {
          "output_type": "execute_result",
          "data": {
            "text/plain": [
              "NodeView(('Burglary', 'Alarm', 'Earthquake', 'JohnCalls', 'MaryCalls'))"
            ]
          },
          "metadata": {},
          "execution_count": 10
        }
      ]
    },
    {
      "cell_type": "code",
      "metadata": {
        "id": "T85LzW52uM28",
        "colab": {
          "base_uri": "https://localhost:8080/"
        },
        "outputId": "94dbb428-a465-40a1-9a8e-bb271d6cc829"
      },
      "source": [
        "# Viewing edges of the model\n",
        "alarm_model.edges()"
      ],
      "execution_count": null,
      "outputs": [
        {
          "output_type": "execute_result",
          "data": {
            "text/plain": [
              "OutEdgeView([('Burglary', 'Alarm'), ('Alarm', 'JohnCalls'), ('Alarm', 'MaryCalls'), ('Earthquake', 'Alarm')])"
            ]
          },
          "metadata": {},
          "execution_count": 11
        }
      ]
    },
    {
      "cell_type": "code",
      "metadata": {
        "id": "kxDNOsnduM29",
        "colab": {
          "base_uri": "https://localhost:8080/"
        },
        "outputId": "8ea7a1ed-b676-4ac9-81c8-bed4e30a31d6"
      },
      "source": [
        "#Checking independcies of a node\n",
        "alarm_model.local_independencies('Burglary')"
      ],
      "execution_count": null,
      "outputs": [
        {
          "output_type": "execute_result",
          "data": {
            "text/plain": [
              "(Burglary ⟂ Earthquake)"
            ]
          },
          "metadata": {},
          "execution_count": 12
        }
      ]
    },
    {
      "cell_type": "code",
      "metadata": {
        "id": "7VsUhHt3uM2-",
        "colab": {
          "base_uri": "https://localhost:8080/"
        },
        "outputId": "7c6e44f6-4f00-4a92-cafd-c71586440f23"
      },
      "source": [
        "#Listing all Independencies\n",
        "alarm_model.get_independencies()"
      ],
      "execution_count": null,
      "outputs": [
        {
          "output_type": "execute_result",
          "data": {
            "text/plain": [
              "(Burglary ⟂ Earthquake)\n",
              "(Burglary ⟂ JohnCalls, MaryCalls | Alarm)\n",
              "(Burglary ⟂ MaryCalls | Alarm, JohnCalls)\n",
              "(Burglary ⟂ JohnCalls, MaryCalls | Alarm, Earthquake)\n",
              "(Burglary ⟂ JohnCalls | Alarm, MaryCalls)\n",
              "(Burglary ⟂ MaryCalls | Alarm, JohnCalls, Earthquake)\n",
              "(Burglary ⟂ JohnCalls | Alarm, Earthquake, MaryCalls)\n",
              "(MaryCalls ⟂ Burglary, JohnCalls, Earthquake | Alarm)\n",
              "(MaryCalls ⟂ JohnCalls, Earthquake | Alarm, Burglary)\n",
              "(MaryCalls ⟂ Burglary, Earthquake | Alarm, JohnCalls)\n",
              "(MaryCalls ⟂ Burglary, JohnCalls | Alarm, Earthquake)\n",
              "(MaryCalls ⟂ Earthquake | Alarm, Burglary, JohnCalls)\n",
              "(MaryCalls ⟂ JohnCalls | Alarm, Burglary, Earthquake)\n",
              "(MaryCalls ⟂ Burglary | Alarm, JohnCalls, Earthquake)\n",
              "(JohnCalls ⟂ Burglary, Earthquake, MaryCalls | Alarm)\n",
              "(JohnCalls ⟂ Earthquake, MaryCalls | Alarm, Burglary)\n",
              "(JohnCalls ⟂ Burglary, MaryCalls | Alarm, Earthquake)\n",
              "(JohnCalls ⟂ Burglary, Earthquake | Alarm, MaryCalls)\n",
              "(JohnCalls ⟂ MaryCalls | Alarm, Burglary, Earthquake)\n",
              "(JohnCalls ⟂ Earthquake | Alarm, Burglary, MaryCalls)\n",
              "(JohnCalls ⟂ Burglary | Alarm, Earthquake, MaryCalls)\n",
              "(Earthquake ⟂ Burglary)\n",
              "(Earthquake ⟂ JohnCalls, MaryCalls | Alarm)\n",
              "(Earthquake ⟂ JohnCalls, MaryCalls | Alarm, Burglary)\n",
              "(Earthquake ⟂ MaryCalls | Alarm, JohnCalls)\n",
              "(Earthquake ⟂ JohnCalls | Alarm, MaryCalls)\n",
              "(Earthquake ⟂ MaryCalls | Alarm, Burglary, JohnCalls)\n",
              "(Earthquake ⟂ JohnCalls | Alarm, Burglary, MaryCalls)"
            ]
          },
          "metadata": {},
          "execution_count": 13
        }
      ]
    }
  ]
}